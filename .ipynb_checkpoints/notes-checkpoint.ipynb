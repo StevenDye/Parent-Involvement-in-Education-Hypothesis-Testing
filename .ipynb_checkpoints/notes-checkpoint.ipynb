{
 "cells": [
  {
   "cell_type": "code",
   "execution_count": 1,
   "metadata": {},
   "outputs": [],
   "source": [
    "import pandas as pd\n",
    "import math\n",
    "import matplotlib.pyplot as plt\n",
    "import numpy as np\n",
    "import seaborn as sns\n",
    "from scipy import stats\n",
    "from statsmodels.stats.power import TTestIndPower, TTestPower\n",
    "\n",
    "df = pd.read_csv('pfi_pu.csv')\n",
    "# Features that measure student performance\n",
    "perf_feats = ['SEENJOY', 'SEGRADES', 'SEABSNT', 'SEREPEAT', 'SESUSPIN']\n",
    "# Features that measure parental involvement at school\n",
    "# Some types of involvement are considered to respond to student performance\n",
    "# All features are binary with the exception of one.\n",
    "pi_pro_schl_feats = ['FSSPORTX', 'FSVOL', 'FSMTNG',\n",
    "                     'FSPTMTNG', 'FSFUNDRS', 'FSCOMMTE']\n",
    "pi_rea_schl_feats = ['FSATCNFN', 'FSCOUNSLR']\n",
    "pi_freq_schl_feats = ['FSFREQ']\n",
    "# Features that measure parental involvement at home\n",
    "# Some types of involvement are considered to respond to student performance\n",
    "# All features are binary with the exception of one.\n",
    "pi_pro_hm_feats = ['FOSTORY2X', 'FOCRAFTS', 'FOGAMES', 'FOBUILDX',\n",
    "                   'FOSPORT', 'FOHISTX', 'FOLIBRAYX', 'FOBOOKSTX',\n",
    "                   'FOCONCRTX', 'FOMUSEUMX', 'FOZOOX', 'FOGROUPX',\n",
    "                   'FOSPRTEVX']\n",
    "pi_rea_hm_feats = ['FHCHECKX', 'FHHELP', 'FORESPON']\n",
    "pi_freq_hm_feats = ['FODINNERX']\n",
    "# Combine all the features into a single list\n",
    "feats = perf_feats.copy()\n",
    "feats.extend(pi_pro_schl_feats)\n",
    "feats.extend(pi_rea_schl_feats)\n",
    "feats.extend(pi_freq_schl_feats)\n",
    "feats.extend(pi_pro_hm_feats)\n",
    "feats.extend(pi_rea_hm_feats)\n",
    "feats.extend(pi_freq_hm_feats)\n",
    "# Append full sample weights\n",
    "feats.append('FPWT')\n",
    "df_cp = df.copy()[feats]\n",
    "# Drop observations with N/A values\n",
    "for c in df_cp.columns:\n",
    "    df_cp = df_cp.drop(df_cp.loc[df_cp[c] < 0].index)\n",
    "    if c == 'SEGRADES':\n",
    "        df_cp = df_cp.drop(df_cp.loc[df_cp[c] == 5].index)\n",
    "\n",
    "def feature_cleaning(features):\n",
    "    \"\"\"This function recodes binary parental involvement features so that\n",
    "       1 shows less involvement and 2 shows more\"\"\"\n",
    "    for feat in features:\n",
    "        i1 = df_cp.loc[df_cp[feat] == 1].index\n",
    "        i2 = df_cp.loc[df_cp[feat] == 2].index\n",
    "        df_cp.loc[i1, feat] = 2\n",
    "        df_cp.loc[i2, feat] = 1\n",
    "\n",
    "\n",
    "# Remove invalid entries from these features\n",
    "feature_cleaning(pi_pro_schl_feats)\n",
    "feature_cleaning(pi_rea_schl_feats)\n",
    "feature_cleaning(pi_pro_hm_feats)\n",
    "feature_cleaning(pi_rea_hm_feats)\n",
    "# Create composite indices for proactive parental involvement\n",
    "df_cp['pi_pro_schl_feats_comp'] = df_cp[pi_pro_schl_feats].sum(axis=1)\n",
    "df_cp['pi_pro_hm_feats_comp'] = df_cp[pi_pro_hm_feats].sum(axis=1)\n",
    "pi_df = df_cp.copy()"
   ]
  },
  {
   "cell_type": "code",
   "execution_count": 2,
   "metadata": {},
   "outputs": [
    {
     "data": {
      "text/plain": [
       "Text(0,0.5,'Probability')"
      ]
     },
     "execution_count": 2,
     "metadata": {},
     "output_type": "execute_result"
    },
    {
     "data": {
      "image/png": "[encoded data removed]",
      "text/plain": [
       "<Figure size 432x288 with 1 Axes>"
      ]
     },
     "metadata": {},
     "output_type": "display_data"
    }
   ],
   "source": [
    "# Creates a sub-dataframe that removes N/A values\n",
    "valid_grades_df = df.copy()\n",
    "valid_grades_df = valid_grades_df[(valid_grades_df['SEGRADES'] != -1) & (valid_grades_df['SEGRADES'] != 5)]\n",
    "# Categoricalize students into two groups based on school performance\n",
    "valid_grades_df['student_performance'] = valid_grades_df['SEGRADES'].apply(lambda x: math.floor(x/2.5))\n",
    "\n",
    "# Break the students into a high performing group and a low performing group\n",
    "low_students_pi = valid_grades_df[valid_grades_df['student_performance'] == 1]['FSFREQ']\n",
    "high_students_pi = valid_grades_df[valid_grades_df['student_performance'] == 0]['FSFREQ']\n",
    "\n",
    "#####################\n",
    "# Plots\n",
    "#####################\n",
    "\n",
    "# This plots the Parent's Participation Count\n",
    "sns.distplot(valid_grades_df['FSFREQ'], kde=False)\n",
    "plt.title(\"Parent's Participation Count\")\n",
    "plt.xlabel(\"Parent's participation hours at child's school\")\n",
    "plt.ylabel(\"Count\")\n",
    "\n",
    "# This plots the Parent's Participation distribution based on the student's\n",
    "# performance in school\n",
    "sns.distplot(low_students_pi, kde=False, norm_hist=True, color=\"b\",\n",
    "\t            label=\"Low performing student\", hist_kws=dict(alpha=0.3))\n",
    "sns.distplot(high_students_pi, kde=False, norm_hist=True, color=\"r\",\n",
    "\t            label=\"High performing student\", hist_kws=dict(alpha=0.3))\n",
    "plt.legend()\n",
    "plt.title(\"Hours of parental involevment per year distribution\")\n",
    "plt.xlabel(\"Parent's participation hours at child's school\")\n",
    "plt.ylabel(\"Probability\")"
   ]
  },
  {
   "cell_type": "code",
   "execution_count": 3,
   "metadata": {},
   "outputs": [
    {
     "name": "stdout",
     "output_type": "stream",
     "text": [
      "MannwhitneyuResult(statistic=7094495.5, pvalue=3.1827822122347744e-38)\n"
     ]
    }
   ],
   "source": [
    "# Get means and standard deviations of the two student groups\n",
    "valid_grades_df[['student_performance', 'FSFREQ']].groupby('student_performance').describe()\n",
    "\n",
    "# Mann-Whitney U test\n",
    "print(stats.mannwhitneyu(high_students_pi, low_students_pi,\n",
    "\t                        use_continuity=False, alternative=None))"
   ]
  },
  {
   "cell_type": "code",
   "execution_count": 4,
   "metadata": {},
   "outputs": [
    {
     "name": "stdout",
     "output_type": "stream",
     "text": [
      "0.24466330903542002\n"
     ]
    }
   ],
   "source": [
    "# Calculate the Effect Size with Cohen's D\n",
    "# Expected differences in mean is 0.\n",
    "mean_1 = high_students_pi.mean()\n",
    "mean_2 = low_students_pi.mean()\n",
    "n_1 = len(high_students_pi)\n",
    "n_2 = len(low_students_pi)\n",
    "var1 = np.var(high_students_pi, ddof=1)\n",
    "var2 = np.var(low_students_pi, ddof =1)\n",
    "\n",
    "num = (n_1 - 1)*var1 + (n_2 - 1)*var2\n",
    "denom = (n_1 + n_2 - 2)\n",
    "s_W = np.sqrt(num/denom)\n",
    "\n",
    "d = np.abs(mean_1 - mean_2)/s_W\n",
    "\n",
    "print(d)"
   ]
  },
  {
   "cell_type": "code",
   "execution_count": 5,
   "metadata": {},
   "outputs": [
    {
     "data": {
      "text/plain": [
       "1.0"
      ]
     },
     "execution_count": 5,
     "metadata": {},
     "output_type": "execute_result"
    }
   ],
   "source": [
    "power_analysis = TTestIndPower()\n",
    "\n",
    "power_analysis.solve_power(effect_size=d, nobs1=n_1, alpha=.05)"
   ]
  },
  {
   "cell_type": "code",
   "execution_count": 6,
   "metadata": {},
   "outputs": [
    {
     "data": {
      "text/plain": [
       "1.0"
      ]
     },
     "execution_count": 6,
     "metadata": {},
     "output_type": "execute_result"
    }
   ],
   "source": [
    "power_analysis.solve_power(effect_size=d, nobs1=n_2, alpha=.05)"
   ]
  },
  {
   "cell_type": "code",
   "execution_count": 7,
   "metadata": {},
   "outputs": [
    {
     "data": {
      "text/plain": [
       "0.9571529744828206"
      ]
     },
     "execution_count": 7,
     "metadata": {},
     "output_type": "execute_result"
    }
   ],
   "source": [
    "power_analysis.solve_power(effect_size=d, nobs1=n_2, alpha=.00000005)"
   ]
  },
  {
   "cell_type": "code",
   "execution_count": 8,
   "metadata": {},
   "outputs": [
    {
     "data": {
      "text/plain": [
       "0.12681580847344961"
      ]
     },
     "execution_count": 8,
     "metadata": {},
     "output_type": "execute_result"
    }
   ],
   "source": [
    "pos1 = stats.poisson.pmf(9, mean_1)\n",
    "pos1"
   ]
  },
  {
   "cell_type": "code",
   "execution_count": 9,
   "metadata": {},
   "outputs": [
    {
     "ename": "TypeError",
     "evalue": "len() of unsized object",
     "output_type": "error",
     "traceback": [
      "\u001b[0;31m---------------------------------------------------------------------------\u001b[0m",
      "\u001b[0;31mTypeError\u001b[0m                                 Traceback (most recent call last)",
      "\u001b[0;32m<ipython-input-9-7981be5ced83>\u001b[0m in \u001b[0;36m<module>\u001b[0;34m()\u001b[0m\n\u001b[0;32m----> 1\u001b[0;31m \u001b[0msns\u001b[0m\u001b[0;34m.\u001b[0m\u001b[0mdistplot\u001b[0m\u001b[0;34m(\u001b[0m\u001b[0mpos1\u001b[0m\u001b[0;34m)\u001b[0m\u001b[0;34m\u001b[0m\u001b[0m\n\u001b[0m",
      "\u001b[0;32m~/anaconda3/lib/python3.6/site-packages/seaborn/distributions.py\u001b[0m in \u001b[0;36mdistplot\u001b[0;34m(a, bins, hist, kde, rug, fit, hist_kws, kde_kws, rug_kws, fit_kws, color, vertical, norm_hist, axlabel, label, ax)\u001b[0m\n\u001b[1;32m    213\u001b[0m     \u001b[0;32mif\u001b[0m \u001b[0mhist\u001b[0m\u001b[0;34m:\u001b[0m\u001b[0;34m\u001b[0m\u001b[0m\n\u001b[1;32m    214\u001b[0m         \u001b[0;32mif\u001b[0m \u001b[0mbins\u001b[0m \u001b[0;32mis\u001b[0m \u001b[0;32mNone\u001b[0m\u001b[0;34m:\u001b[0m\u001b[0;34m\u001b[0m\u001b[0m\n\u001b[0;32m--> 215\u001b[0;31m             \u001b[0mbins\u001b[0m \u001b[0;34m=\u001b[0m \u001b[0mmin\u001b[0m\u001b[0;34m(\u001b[0m\u001b[0m_freedman_diaconis_bins\u001b[0m\u001b[0;34m(\u001b[0m\u001b[0ma\u001b[0m\u001b[0;34m)\u001b[0m\u001b[0;34m,\u001b[0m \u001b[0;36m50\u001b[0m\u001b[0;34m)\u001b[0m\u001b[0;34m\u001b[0m\u001b[0m\n\u001b[0m\u001b[1;32m    216\u001b[0m         \u001b[0mhist_kws\u001b[0m\u001b[0;34m.\u001b[0m\u001b[0msetdefault\u001b[0m\u001b[0;34m(\u001b[0m\u001b[0;34m\"alpha\"\u001b[0m\u001b[0;34m,\u001b[0m \u001b[0;36m0.4\u001b[0m\u001b[0;34m)\u001b[0m\u001b[0;34m\u001b[0m\u001b[0m\n\u001b[1;32m    217\u001b[0m         \u001b[0;32mif\u001b[0m \u001b[0mLooseVersion\u001b[0m\u001b[0;34m(\u001b[0m\u001b[0mmpl\u001b[0m\u001b[0;34m.\u001b[0m\u001b[0m__version__\u001b[0m\u001b[0;34m)\u001b[0m \u001b[0;34m<\u001b[0m \u001b[0mLooseVersion\u001b[0m\u001b[0;34m(\u001b[0m\u001b[0;34m\"2.2\"\u001b[0m\u001b[0;34m)\u001b[0m\u001b[0;34m:\u001b[0m\u001b[0;34m\u001b[0m\u001b[0m\n",
      "\u001b[0;32m~/anaconda3/lib/python3.6/site-packages/seaborn/distributions.py\u001b[0m in \u001b[0;36m_freedman_diaconis_bins\u001b[0;34m(a)\u001b[0m\n\u001b[1;32m     30\u001b[0m     \u001b[0;31m# From https://stats.stackexchange.com/questions/798/\u001b[0m\u001b[0;34m\u001b[0m\u001b[0;34m\u001b[0m\u001b[0m\n\u001b[1;32m     31\u001b[0m     \u001b[0ma\u001b[0m \u001b[0;34m=\u001b[0m \u001b[0mnp\u001b[0m\u001b[0;34m.\u001b[0m\u001b[0masarray\u001b[0m\u001b[0;34m(\u001b[0m\u001b[0ma\u001b[0m\u001b[0;34m)\u001b[0m\u001b[0;34m\u001b[0m\u001b[0m\n\u001b[0;32m---> 32\u001b[0;31m     \u001b[0;32mif\u001b[0m \u001b[0mlen\u001b[0m\u001b[0;34m(\u001b[0m\u001b[0ma\u001b[0m\u001b[0;34m)\u001b[0m \u001b[0;34m<\u001b[0m \u001b[0;36m2\u001b[0m\u001b[0;34m:\u001b[0m\u001b[0;34m\u001b[0m\u001b[0m\n\u001b[0m\u001b[1;32m     33\u001b[0m         \u001b[0;32mreturn\u001b[0m \u001b[0;36m1\u001b[0m\u001b[0;34m\u001b[0m\u001b[0m\n\u001b[1;32m     34\u001b[0m     \u001b[0mh\u001b[0m \u001b[0;34m=\u001b[0m \u001b[0;36m2\u001b[0m \u001b[0;34m*\u001b[0m \u001b[0miqr\u001b[0m\u001b[0;34m(\u001b[0m\u001b[0ma\u001b[0m\u001b[0;34m)\u001b[0m \u001b[0;34m/\u001b[0m \u001b[0;34m(\u001b[0m\u001b[0mlen\u001b[0m\u001b[0;34m(\u001b[0m\u001b[0ma\u001b[0m\u001b[0;34m)\u001b[0m \u001b[0;34m**\u001b[0m \u001b[0;34m(\u001b[0m\u001b[0;36m1\u001b[0m \u001b[0;34m/\u001b[0m \u001b[0;36m3\u001b[0m\u001b[0;34m)\u001b[0m\u001b[0;34m)\u001b[0m\u001b[0;34m\u001b[0m\u001b[0m\n",
      "\u001b[0;31mTypeError\u001b[0m: len() of unsized object"
     ]
    },
    {
     "data": {
      "image/png": "[encoded data removed]",
      "text/plain": [
       "<Figure size 432x288 with 1 Axes>"
      ]
     },
     "metadata": {},
     "output_type": "display_data"
    }
   ],
   "source": [
    "sns.distplot(pos1)"
   ]
  },
  {
   "cell_type": "code",
   "execution_count": null,
   "metadata": {},
   "outputs": [],
   "source": [
    "import numpy as np\n",
    "from scipy.stats import poisson\n",
    "from matplotlib import pyplot as plt\n",
    "\n",
    "#------------------------------------------------------------\n",
    "# Define the distribution parameters to be plotted\n",
    "mu_values = [1, 5, 15]\n",
    "linestyles = ['-', '--', ':']\n",
    "\n",
    "#------------------------------------------------------------\n",
    "# plot the distributions\n",
    "#   we generate it using scipy.stats.poisson().  Once the distribution\n",
    "#   object is created, we have many options: for example\n",
    "#   - dist.pmf(x) evaluates the probability mass function in the case of\n",
    "#     discrete distributions.\n",
    "#   - dist.pdf(x) evaluates the probability density function for\n",
    "#   evaluates\n",
    "fig, ax = plt.subplots(figsize=(5, 3.75))\n",
    "\n",
    "for mu, ls in zip(mu_values, linestyles):\n",
    "    # create a poisson distribution\n",
    "    # we could generate a random sample from this distribution using, e.g.\n",
    "    #   rand = dist.rvs(1000)\n",
    "    dist = poisson(mu)\n",
    "    x = np.arange(-1, 200)\n",
    "\n",
    "    plt.plot(x, dist.pmf(x), linestyle='steps-mid' + ls, label=r'$\\mu=%i$' % mu)\n",
    "\n",
    "plt.xlim(-0.5, 50)\n",
    "plt.ylim(0, 0.4)\n",
    "plt.xlabel('$x$')\n",
    "plt.ylabel(r'$p(x|\\mu)$')\n",
    "plt.title('Poisson Distribution')\n",
    "plt.legend()\n",
    "plt.show()"
   ]
  },
  {
   "cell_type": "code",
   "execution_count": null,
   "metadata": {},
   "outputs": [],
   "source": [
    "#------------------------------------------------------------\n",
    "# plot the distributions\n",
    "#   we generate it using scipy.stats.poisson().  Once the distribution\n",
    "#   object is created, we have many options: for example\n",
    "#   - dist.pmf(x) evaluates the probability mass function in the case of\n",
    "#     discrete distributions.\n",
    "#   - dist.pdf(x) evaluates the probability density function for\n",
    "#   evaluates\n",
    "fig, ax = plt.subplots()\n",
    "\n",
    "# create a poisson distribution\n",
    "# we could generate a random sample from this distribution using, e.g.\n",
    "#   rand = dist.rvs(1000)\n",
    "dist = poisson(mu)\n",
    "x = high_students_pi.unique\n",
    "\n",
    "plt.plot(high_students_pi, label=r'$\\mu=%i$' % mu)\n",
    "\n",
    "plt.ylim(0, 0.4)\n",
    "plt.xlabel('$x$')\n",
    "plt.ylabel(r'$p(x|\\mu)$')\n",
    "plt.title('Poisson Distribution')\n",
    "plt.legend()\n",
    "plt.show()"
   ]
  },
  {
   "cell_type": "code",
   "execution_count": null,
   "metadata": {},
   "outputs": [],
   "source": [
    "import numpy as np\n",
    "import matplotlib.pyplot as plt\n",
    "from scipy.special import factorial\n",
    "\n",
    "t = np.arange(0, 20, 0.1)\n",
    "d = np.exp(-5)*np.power(5, t)/factorial(t)\n",
    "\n",
    "plt.plot(t, d, 'bs')\n",
    "plt.show()\n"
   ]
  },
  {
   "cell_type": "code",
   "execution_count": 11,
   "metadata": {},
   "outputs": [
    {
     "data": {
      "text/plain": [
       "7.876605389070763"
      ]
     },
     "execution_count": 11,
     "metadata": {},
     "output_type": "execute_result"
    }
   ],
   "source": [
    "valid_grades_df['FSFREQ'].mean()"
   ]
  },
  {
   "cell_type": "code",
   "execution_count": null,
   "metadata": {},
   "outputs": [],
   "source": []
  }
 ],
 "metadata": {
  "kernelspec": {
   "display_name": "Python 3",
   "language": "python",
   "name": "python3"
  },
  "language_info": {
   "codemirror_mode": {
    "name": "ipython",
    "version": 3
   },
   "file_extension": ".py",
   "mimetype": "text/x-python",
   "name": "python",
   "nbconvert_exporter": "python",
   "pygments_lexer": "ipython3",
   "version": "3.6.5"
  }
 },
 "nbformat": 4,
 "nbformat_minor": 2
}
