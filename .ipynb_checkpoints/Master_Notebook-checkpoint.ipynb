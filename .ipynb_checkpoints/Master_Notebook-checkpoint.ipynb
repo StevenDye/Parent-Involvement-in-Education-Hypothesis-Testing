{
 "cells": [
  {
   "cell_type": "markdown",
   "metadata": {},
   "source": [
    "# Parental Involvement & Student Outcomes\n"
   ]
  },
  {
   "cell_type": "markdown",
   "metadata": {},
   "source": [
    "Anil Onal and Steven Dye\n",
    "\n",
    "Module 3 Project: Hypothesis Testing"
   ]
  },
  {
   "cell_type": "markdown",
   "metadata": {},
   "source": [
    "## The Problem Statement\n",
    "\n",
    "Our target audience are those who are responsible for making education policy. We attempted to find a relationship between a child's success in school and the amount of time that their parent/parental figure is involved. We then sought to break down the different types of parental involvement in order to see if one is more valuable than the other.\n",
    "#### Is there a correlation between parential involvement and a child's success in school?\n",
    "#### Does the type of parential involvement matter?\n"
   ]
  },
  {
   "cell_type": "markdown",
   "metadata": {},
   "source": [
    "## Data\n",
    "\n",
    "Our data is the National Household Education Survey Program of 2016 from the National Center for Education Statistics. This data was collected in the NHES's Parent and Family Involvement in Education (PFI) Survey. The survey collects data on children from grades kindergarten to 12th grade and asks various questions about the child's performance in school and the involvement of the parents. The survey is filled out by the parents. The data is compiled in a csv file with 822 columns and 14075 entries."
   ]
  },
  {
   "cell_type": "markdown",
   "metadata": {},
   "source": [
    "## Methodology\n",
    "\n",
    "When determining the success of children at school, we focused mainly on question E13 from the survey: *\"Please tell us about this child's grades during this school year. Overall, across all subjects, what grades does this child get?\"*\n",
    "\n",
    "We separated the students into two groups, high performing students and low performing students. This grouping was made by looking at question E13 and seperating those who answered 1 and 2 into the high performing students group and placing those answering 3 or 4 were placed in the low performing students group. Students with other or invalid answers to this question were dropped from the analysis."
   ]
  },
  {
   "cell_type": "markdown",
   "metadata": {},
   "source": [
    "## Key Findings\n",
    "\n",
    "For high performing students, the mean parental involvement hours per year was 8.195917 with a standard deviation of 9.280269 while for low students, the mean was 5.990725 hours with a standard deviation of 7.236390. A Mann-Whitney U test gives us a t score of 7094495.5, resulting in a p-value of 3.18e-38."
   ]
  },
  {
   "cell_type": "markdown",
   "metadata": {},
   "source": [
    "## Conclusions\n",
    "\n",
    "Parental involvement is significant, but not impactful."
   ]
  },
  {
   "cell_type": "markdown",
   "metadata": {},
   "source": [
    "## Future Work\n",
    "\n",
    "The survey applies weights to the responses in order to apply the findings to the entire U.S. population. There are 80 weights in total and each entry has their own value for each weight. While this is interesting topic to dive into, it is much larger than the scope of this project."
   ]
  },
  {
   "cell_type": "markdown",
   "metadata": {},
   "source": [
    "# Data Prep"
   ]
  },
  {
   "cell_type": "code",
   "execution_count": 1,
   "metadata": {},
   "outputs": [],
   "source": [
    "import pandas as pd\n",
    "import matplotlib.pyplot as plt\n",
    "import seaborn as sns\n",
    "import math\n",
    "\n",
    "df = pd.read_csv('pfi_pu.csv').drop_duplicates() # No duplicates"
   ]
  },
  {
   "cell_type": "code",
   "execution_count": 4,
   "metadata": {},
   "outputs": [],
   "source": [
    "# Student Categorical Features\n",
    "# E1: GRADE     \"What is this child’s current grade or year of school?\"\n",
    "# E2: SCPUBPRI  \"What type of school does this child attend?\"\n",
    "# 25: HOMESCHLX \"Some parents decide to educate their children at home rather than send them to a public or private school. Is this child being schooled at home instead of at school for at least some classes or subjects?\"\n",
    "student_categorical_features = ['GRADE', 'SCPUBPRI', 'HOMESCHLX']"
   ]
  },
  {
   "cell_type": "code",
   "execution_count": 5,
   "metadata": {},
   "outputs": [],
   "source": [
    "# Student Performance Features\n",
    "# E13: SEGRADES  \"Please tell us about this child's grades during this school year. Overall, across all subjects, what grades does this child get?\"\n",
    "# E20: SEFUTUREX \"How far do you expect this child to go in his/her education?\"\n",
    "# E21: SEGRADEQ  \"How would you describe his/her work at school?\"\n",
    "# E36: FHWKHRS   \"In an average week, how many hours does this child spend on homework outside of school?\"\n",
    "student_performance_features = ['SEGRADES', 'SEFUTUREX', 'SEGRADEQ']"
   ]
  },
  {
   "cell_type": "code",
   "execution_count": 6,
   "metadata": {},
   "outputs": [],
   "source": [
    "# Parental Involvement Features\n",
    "# 31: FSFREQ \"During this school year, how many times has any adult in the household gone to meetings or participated in activities at this child's school?\"\n",
    "parental_involvement_features = ['FSFREQ']"
   ]
  },
  {
   "cell_type": "code",
   "execution_count": 8,
   "metadata": {},
   "outputs": [],
   "source": [
    "valid_grades_df = df[(df['SEGRADES'] != -1) & (df['SEGRADES'] != 5)]\n",
    "# -1 is a valid skip, 5 means that the school does not give grades"
   ]
  },
  {
   "cell_type": "code",
   "execution_count": 9,
   "metadata": {
    "scrolled": false
   },
   "outputs": [
    {
     "data": {
      "text/plain": [
       "count    11913.000000\n",
       "mean         1.657433\n",
       "std          0.791418\n",
       "min          1.000000\n",
       "25%          1.000000\n",
       "50%          1.000000\n",
       "75%          2.000000\n",
       "max          4.000000\n",
       "Name: SEGRADES, dtype: float64"
      ]
     },
     "execution_count": 9,
     "metadata": {},
     "output_type": "execute_result"
    }
   ],
   "source": [
    "valid_grades_df.SEGRADES.describe()"
   ]
  },
  {
   "cell_type": "code",
   "execution_count": 10,
   "metadata": {
    "scrolled": false
   },
   "outputs": [
    {
     "name": "stderr",
     "output_type": "stream",
     "text": [
      "/Users/stevedye/anaconda3/lib/python3.6/site-packages/ipykernel_launcher.py:1: SettingWithCopyWarning: \n",
      "A value is trying to be set on a copy of a slice from a DataFrame.\n",
      "Try using .loc[row_indexer,col_indexer] = value instead\n",
      "\n",
      "See the caveats in the documentation: http://pandas.pydata.org/pandas-docs/stable/user_guide/indexing.html#returning-a-view-versus-a-copy\n",
      "  \"\"\"Entry point for launching an IPython kernel.\n"
     ]
    }
   ],
   "source": [
    "valid_grades_df['student_performance'] = valid_grades_df['SEGRADES'].apply(lambda x: math.floor(x/2.5))"
   ]
  },
  {
   "cell_type": "code",
   "execution_count": 11,
   "metadata": {
    "scrolled": true
   },
   "outputs": [
    {
     "data": {
      "text/html": [
       "<div>\n",
       "<style scoped>\n",
       "    .dataframe tbody tr th:only-of-type {\n",
       "        vertical-align: middle;\n",
       "    }\n",
       "\n",
       "    .dataframe tbody tr th {\n",
       "        vertical-align: top;\n",
       "    }\n",
       "\n",
       "    .dataframe thead th {\n",
       "        text-align: right;\n",
       "    }\n",
       "</style>\n",
       "<table border=\"1\" class=\"dataframe\">\n",
       "  <thead>\n",
       "    <tr style=\"text-align: right;\">\n",
       "      <th></th>\n",
       "      <th>BASMID</th>\n",
       "      <th>PATH</th>\n",
       "      <th>QTYPE</th>\n",
       "      <th>GRADE</th>\n",
       "      <th>SCPUBPRI</th>\n",
       "      <th>DISTASSI</th>\n",
       "      <th>SCHRTSCHL</th>\n",
       "      <th>SNEIGHBRX</th>\n",
       "      <th>SPUBCHOIX</th>\n",
       "      <th>SCONSIDR</th>\n",
       "      <th>...</th>\n",
       "      <th>F_HCHIP</th>\n",
       "      <th>F_HSECN8</th>\n",
       "      <th>F_TTLHHINC</th>\n",
       "      <th>F_YRSADDR</th>\n",
       "      <th>F_OWNRNTHB</th>\n",
       "      <th>F_HVINTSPHO</th>\n",
       "      <th>F_HVINTCOM</th>\n",
       "      <th>F_USEINTRNT</th>\n",
       "      <th>F_HHUNID</th>\n",
       "      <th>student_performance</th>\n",
       "    </tr>\n",
       "  </thead>\n",
       "  <tbody>\n",
       "    <tr>\n",
       "      <th>0</th>\n",
       "      <td>20161000013</td>\n",
       "      <td>E</td>\n",
       "      <td>2</td>\n",
       "      <td>6</td>\n",
       "      <td>4</td>\n",
       "      <td>2</td>\n",
       "      <td>2</td>\n",
       "      <td>2</td>\n",
       "      <td>1</td>\n",
       "      <td>2</td>\n",
       "      <td>...</td>\n",
       "      <td>0</td>\n",
       "      <td>0</td>\n",
       "      <td>3</td>\n",
       "      <td>0</td>\n",
       "      <td>0</td>\n",
       "      <td>0</td>\n",
       "      <td>0</td>\n",
       "      <td>0</td>\n",
       "      <td>0</td>\n",
       "      <td>0</td>\n",
       "    </tr>\n",
       "    <tr>\n",
       "      <th>1</th>\n",
       "      <td>20161000017</td>\n",
       "      <td>S</td>\n",
       "      <td>2</td>\n",
       "      <td>12</td>\n",
       "      <td>4</td>\n",
       "      <td>1</td>\n",
       "      <td>2</td>\n",
       "      <td>2</td>\n",
       "      <td>2</td>\n",
       "      <td>2</td>\n",
       "      <td>...</td>\n",
       "      <td>0</td>\n",
       "      <td>0</td>\n",
       "      <td>0</td>\n",
       "      <td>0</td>\n",
       "      <td>0</td>\n",
       "      <td>0</td>\n",
       "      <td>0</td>\n",
       "      <td>0</td>\n",
       "      <td>0</td>\n",
       "      <td>0</td>\n",
       "    </tr>\n",
       "    <tr>\n",
       "      <th>4</th>\n",
       "      <td>20161000058</td>\n",
       "      <td>S</td>\n",
       "      <td>2</td>\n",
       "      <td>12</td>\n",
       "      <td>4</td>\n",
       "      <td>1</td>\n",
       "      <td>2</td>\n",
       "      <td>2</td>\n",
       "      <td>1</td>\n",
       "      <td>2</td>\n",
       "      <td>...</td>\n",
       "      <td>0</td>\n",
       "      <td>0</td>\n",
       "      <td>0</td>\n",
       "      <td>0</td>\n",
       "      <td>0</td>\n",
       "      <td>0</td>\n",
       "      <td>0</td>\n",
       "      <td>0</td>\n",
       "      <td>0</td>\n",
       "      <td>0</td>\n",
       "    </tr>\n",
       "    <tr>\n",
       "      <th>5</th>\n",
       "      <td>20161000064</td>\n",
       "      <td>S</td>\n",
       "      <td>2</td>\n",
       "      <td>13</td>\n",
       "      <td>4</td>\n",
       "      <td>1</td>\n",
       "      <td>2</td>\n",
       "      <td>2</td>\n",
       "      <td>2</td>\n",
       "      <td>2</td>\n",
       "      <td>...</td>\n",
       "      <td>0</td>\n",
       "      <td>0</td>\n",
       "      <td>0</td>\n",
       "      <td>0</td>\n",
       "      <td>0</td>\n",
       "      <td>0</td>\n",
       "      <td>0</td>\n",
       "      <td>0</td>\n",
       "      <td>0</td>\n",
       "      <td>0</td>\n",
       "    </tr>\n",
       "    <tr>\n",
       "      <th>6</th>\n",
       "      <td>20161000065</td>\n",
       "      <td>S</td>\n",
       "      <td>2</td>\n",
       "      <td>13</td>\n",
       "      <td>4</td>\n",
       "      <td>1</td>\n",
       "      <td>2</td>\n",
       "      <td>2</td>\n",
       "      <td>1</td>\n",
       "      <td>2</td>\n",
       "      <td>...</td>\n",
       "      <td>0</td>\n",
       "      <td>0</td>\n",
       "      <td>0</td>\n",
       "      <td>0</td>\n",
       "      <td>0</td>\n",
       "      <td>0</td>\n",
       "      <td>0</td>\n",
       "      <td>0</td>\n",
       "      <td>0</td>\n",
       "      <td>0</td>\n",
       "    </tr>\n",
       "  </tbody>\n",
       "</table>\n",
       "<p>5 rows × 823 columns</p>\n",
       "</div>"
      ],
      "text/plain": [
       "        BASMID PATH  QTYPE  GRADE  SCPUBPRI  DISTASSI  SCHRTSCHL  SNEIGHBRX  \\\n",
       "0  20161000013    E      2      6         4         2          2          2   \n",
       "1  20161000017    S      2     12         4         1          2          2   \n",
       "4  20161000058    S      2     12         4         1          2          2   \n",
       "5  20161000064    S      2     13         4         1          2          2   \n",
       "6  20161000065    S      2     13         4         1          2          2   \n",
       "\n",
       "   SPUBCHOIX  SCONSIDR  ...  F_HCHIP  F_HSECN8  F_TTLHHINC  F_YRSADDR  \\\n",
       "0          1         2  ...        0         0           3          0   \n",
       "1          2         2  ...        0         0           0          0   \n",
       "4          1         2  ...        0         0           0          0   \n",
       "5          2         2  ...        0         0           0          0   \n",
       "6          1         2  ...        0         0           0          0   \n",
       "\n",
       "   F_OWNRNTHB  F_HVINTSPHO  F_HVINTCOM  F_USEINTRNT  F_HHUNID  \\\n",
       "0           0            0           0            0         0   \n",
       "1           0            0           0            0         0   \n",
       "4           0            0           0            0         0   \n",
       "5           0            0           0            0         0   \n",
       "6           0            0           0            0         0   \n",
       "\n",
       "   student_performance  \n",
       "0                    0  \n",
       "1                    0  \n",
       "4                    0  \n",
       "5                    0  \n",
       "6                    0  \n",
       "\n",
       "[5 rows x 823 columns]"
      ]
     },
     "execution_count": 11,
     "metadata": {},
     "output_type": "execute_result"
    }
   ],
   "source": [
    "valid_grades_df.head()"
   ]
  },
  {
   "cell_type": "markdown",
   "metadata": {},
   "source": [
    "# Visualizations"
   ]
  },
  {
   "cell_type": "code",
   "execution_count": 28,
   "metadata": {},
   "outputs": [
    {
     "data": {
      "image/png": "[encoded data removed]",
      "text/plain": [
       "<Figure size 432x288 with 1 Axes>"
      ]
     },
     "metadata": {},
     "output_type": "display_data"
    }
   ],
   "source": [
    "sns.distplot(valid_grades_df['FSFREQ'], kde=False)\n",
    "plt.title(\"Parent's Participation Count\")\n",
    "plt.xlabel(\"Parent's participation hours at child's school\")\n",
    "plt.ylabel(\"Count\");"
   ]
  },
  {
   "cell_type": "code",
   "execution_count": 13,
   "metadata": {
    "scrolled": false
   },
   "outputs": [
    {
     "data": {
      "image/png": "[encoded data removed]",
      "text/plain": [
       "<Figure size 432x288 with 1 Axes>"
      ]
     },
     "metadata": {},
     "output_type": "display_data"
    }
   ],
   "source": [
    "sns.regplot(x='FSFREQ', y='SEGRADES', data=valid_grades_df);"
   ]
  },
  {
   "cell_type": "code",
   "execution_count": 14,
   "metadata": {},
   "outputs": [
    {
     "data": {
      "image/png": "[encoded data removed]",
      "text/plain": [
       "<Figure size 432x288 with 1 Axes>"
      ]
     },
     "metadata": {},
     "output_type": "display_data"
    }
   ],
   "source": [
    "# Count of Grade distribution. 1: Mostly A's 2: Mostly B's 3: Mostly C's 4: Mostly D's or lower\n",
    "sns.distplot(valid_grades_df['SEGRADES'], kde=False)\n",
    "plt.title(\"Student Grade Count\")\n",
    "plt.xlabel(\"Overall Student Grade\")\n",
    "plt.ylabel(\"Count\");"
   ]
  },
  {
   "cell_type": "code",
   "execution_count": 15,
   "metadata": {},
   "outputs": [
    {
     "data": {
      "image/png": "[encoded data removed]",
      "text/plain": [
       "<Figure size 432x288 with 1 Axes>"
      ]
     },
     "metadata": {},
     "output_type": "display_data"
    }
   ],
   "source": [
    "# 0's are A's and B's, 1's are C's and lower\n",
    "sns.regplot(x='FSFREQ', y='student_performance', data=valid_grades_df);"
   ]
  },
  {
   "cell_type": "code",
   "execution_count": 18,
   "metadata": {},
   "outputs": [
    {
     "data": {
      "text/html": [
       "<div>\n",
       "<style scoped>\n",
       "    .dataframe tbody tr th:only-of-type {\n",
       "        vertical-align: middle;\n",
       "    }\n",
       "\n",
       "    .dataframe tbody tr th {\n",
       "        vertical-align: top;\n",
       "    }\n",
       "\n",
       "    .dataframe thead tr th {\n",
       "        text-align: left;\n",
       "    }\n",
       "\n",
       "    .dataframe thead tr:last-of-type th {\n",
       "        text-align: right;\n",
       "    }\n",
       "</style>\n",
       "<table border=\"1\" class=\"dataframe\">\n",
       "  <thead>\n",
       "    <tr>\n",
       "      <th></th>\n",
       "      <th colspan=\"8\" halign=\"left\">FSFREQ</th>\n",
       "    </tr>\n",
       "    <tr>\n",
       "      <th></th>\n",
       "      <th>count</th>\n",
       "      <th>mean</th>\n",
       "      <th>std</th>\n",
       "      <th>min</th>\n",
       "      <th>25%</th>\n",
       "      <th>50%</th>\n",
       "      <th>75%</th>\n",
       "      <th>max</th>\n",
       "    </tr>\n",
       "    <tr>\n",
       "      <th>student_performance</th>\n",
       "      <th></th>\n",
       "      <th></th>\n",
       "      <th></th>\n",
       "      <th></th>\n",
       "      <th></th>\n",
       "      <th></th>\n",
       "      <th></th>\n",
       "      <th></th>\n",
       "    </tr>\n",
       "  </thead>\n",
       "  <tbody>\n",
       "    <tr>\n",
       "      <th>0</th>\n",
       "      <td>10188.0</td>\n",
       "      <td>8.195917</td>\n",
       "      <td>9.280269</td>\n",
       "      <td>0.0</td>\n",
       "      <td>3.0</td>\n",
       "      <td>5.0</td>\n",
       "      <td>10.0</td>\n",
       "      <td>99.0</td>\n",
       "    </tr>\n",
       "    <tr>\n",
       "      <th>1</th>\n",
       "      <td>1725.0</td>\n",
       "      <td>5.990725</td>\n",
       "      <td>7.236390</td>\n",
       "      <td>0.0</td>\n",
       "      <td>2.0</td>\n",
       "      <td>4.0</td>\n",
       "      <td>6.0</td>\n",
       "      <td>80.0</td>\n",
       "    </tr>\n",
       "  </tbody>\n",
       "</table>\n",
       "</div>"
      ],
      "text/plain": [
       "                      FSFREQ                                               \n",
       "                       count      mean       std  min  25%  50%   75%   max\n",
       "student_performance                                                        \n",
       "0                    10188.0  8.195917  9.280269  0.0  3.0  5.0  10.0  99.0\n",
       "1                     1725.0  5.990725  7.236390  0.0  2.0  4.0   6.0  80.0"
      ]
     },
     "execution_count": 18,
     "metadata": {},
     "output_type": "execute_result"
    }
   ],
   "source": [
    "valid_grades_df[['student_performance', 'FSFREQ']].groupby('student_performance').describe()\n",
    "# 0's are A's and B's, 1's are C's and lower\n",
    "# statistically significant but not important?"
   ]
  },
  {
   "cell_type": "code",
   "execution_count": 19,
   "metadata": {},
   "outputs": [
    {
     "data": {
      "text/html": [
       "<div>\n",
       "<style scoped>\n",
       "    .dataframe tbody tr th:only-of-type {\n",
       "        vertical-align: middle;\n",
       "    }\n",
       "\n",
       "    .dataframe tbody tr th {\n",
       "        vertical-align: top;\n",
       "    }\n",
       "\n",
       "    .dataframe thead tr th {\n",
       "        text-align: left;\n",
       "    }\n",
       "\n",
       "    .dataframe thead tr:last-of-type th {\n",
       "        text-align: right;\n",
       "    }\n",
       "</style>\n",
       "<table border=\"1\" class=\"dataframe\">\n",
       "  <thead>\n",
       "    <tr>\n",
       "      <th></th>\n",
       "      <th colspan=\"8\" halign=\"left\">FSFREQ</th>\n",
       "    </tr>\n",
       "    <tr>\n",
       "      <th></th>\n",
       "      <th>count</th>\n",
       "      <th>mean</th>\n",
       "      <th>std</th>\n",
       "      <th>min</th>\n",
       "      <th>25%</th>\n",
       "      <th>50%</th>\n",
       "      <th>75%</th>\n",
       "      <th>max</th>\n",
       "    </tr>\n",
       "    <tr>\n",
       "      <th>SEGRADES</th>\n",
       "      <th></th>\n",
       "      <th></th>\n",
       "      <th></th>\n",
       "      <th></th>\n",
       "      <th></th>\n",
       "      <th></th>\n",
       "      <th></th>\n",
       "      <th></th>\n",
       "    </tr>\n",
       "  </thead>\n",
       "  <tbody>\n",
       "    <tr>\n",
       "      <th>1</th>\n",
       "      <td>6138.0</td>\n",
       "      <td>8.886119</td>\n",
       "      <td>9.786589</td>\n",
       "      <td>0.0</td>\n",
       "      <td>3.0</td>\n",
       "      <td>5.0</td>\n",
       "      <td>10.0</td>\n",
       "      <td>99.0</td>\n",
       "    </tr>\n",
       "    <tr>\n",
       "      <th>2</th>\n",
       "      <td>4050.0</td>\n",
       "      <td>7.149877</td>\n",
       "      <td>8.348397</td>\n",
       "      <td>0.0</td>\n",
       "      <td>3.0</td>\n",
       "      <td>5.0</td>\n",
       "      <td>8.0</td>\n",
       "      <td>90.0</td>\n",
       "    </tr>\n",
       "    <tr>\n",
       "      <th>3</th>\n",
       "      <td>1393.0</td>\n",
       "      <td>6.009332</td>\n",
       "      <td>7.298386</td>\n",
       "      <td>0.0</td>\n",
       "      <td>2.0</td>\n",
       "      <td>4.0</td>\n",
       "      <td>6.0</td>\n",
       "      <td>80.0</td>\n",
       "    </tr>\n",
       "    <tr>\n",
       "      <th>4</th>\n",
       "      <td>332.0</td>\n",
       "      <td>5.912651</td>\n",
       "      <td>6.980436</td>\n",
       "      <td>0.0</td>\n",
       "      <td>3.0</td>\n",
       "      <td>4.0</td>\n",
       "      <td>6.0</td>\n",
       "      <td>60.0</td>\n",
       "    </tr>\n",
       "  </tbody>\n",
       "</table>\n",
       "</div>"
      ],
      "text/plain": [
       "          FSFREQ                                               \n",
       "           count      mean       std  min  25%  50%   75%   max\n",
       "SEGRADES                                                       \n",
       "1         6138.0  8.886119  9.786589  0.0  3.0  5.0  10.0  99.0\n",
       "2         4050.0  7.149877  8.348397  0.0  3.0  5.0   8.0  90.0\n",
       "3         1393.0  6.009332  7.298386  0.0  2.0  4.0   6.0  80.0\n",
       "4          332.0  5.912651  6.980436  0.0  3.0  4.0   6.0  60.0"
      ]
     },
     "execution_count": 19,
     "metadata": {},
     "output_type": "execute_result"
    }
   ],
   "source": [
    "valid_grades_df[['FSFREQ','SEGRADES']].groupby('SEGRADES').describe()"
   ]
  },
  {
   "cell_type": "code",
   "execution_count": 21,
   "metadata": {
    "collapsed": true
   },
   "outputs": [
    {
     "data": {
      "image/png": "[encoded data removed]",
      "text/plain": [
       "<Figure size 504x504 with 4 Axes>"
      ]
     },
     "metadata": {},
     "output_type": "display_data"
    }
   ],
   "source": [
    "f, axes = plt.subplots(2, 2, figsize=(7, 7), sharex=True, sharey=True)\n",
    "plt.suptitle(\"Hours of parental involevment per year distribution\")\n",
    "f.text(0.5, 0.05, 'common X', ha='center')\n",
    "f.text(0.05, 0.5, 'common Y', va='center', rotation='vertical')\n",
    "\n",
    "sns.distplot(valid_grades_df[valid_grades_df['SEGRADES']==1]['FSFREQ'],\n",
    "             label=\"A Students\", color=\"b\", ax=axes[0, 0])\n",
    "sns.distplot(valid_grades_df[valid_grades_df['SEGRADES']==2]['FSFREQ'], \n",
    "             label=\"B Students\", color=\"r\", ax=axes[0, 1])\n",
    "sns.distplot(valid_grades_df[valid_grades_df['SEGRADES']==3]['FSFREQ'],\n",
    "             label=\"C Students\", color=\"g\", ax=axes[1, 0])\n",
    "sns.distplot(valid_grades_df[valid_grades_df['SEGRADES']==4]['FSFREQ'],\n",
    "             label=\"D Students\", color=\"y\", ax=axes[1, 1])\n",
    "plt.legend()\n",
    "plt.plot();"
   ]
  },
  {
   "cell_type": "code",
   "execution_count": 22,
   "metadata": {
    "collapsed": true
   },
   "outputs": [
    {
     "data": {
      "image/png": "[encoded data removed]",
      "text/plain": [
       "<Figure size 432x288 with 1 Axes>"
      ]
     },
     "metadata": {},
     "output_type": "display_data"
    }
   ],
   "source": [
    "sns.distplot(valid_grades_df[valid_grades_df['SEGRADES']==1]['FSFREQ'], \n",
    "             color=\"b\", label=\"A Students\", hist=False)\n",
    "sns.distplot(valid_grades_df[valid_grades_df['SEGRADES']==2]['FSFREQ'], \n",
    "             color=\"r\", label=\"B Students\", hist=False)\n",
    "sns.distplot(valid_grades_df[valid_grades_df['SEGRADES']==3]['FSFREQ'], \n",
    "             color=\"g\", label=\"C Students\", hist=False)\n",
    "sns.distplot(valid_grades_df[valid_grades_df['SEGRADES']==4]['FSFREQ'], \n",
    "             color=\"y\", label=\"D Students\", hist=False)\n",
    "plt.legend()\n",
    "plt.title(\"Hours of parental involevment per year distribution\")\n",
    "plt.xlabel(\"Parent's participation hours at child's school\")\n",
    "plt.ylabel(\"Probability\");"
   ]
  },
  {
   "cell_type": "code",
   "execution_count": 23,
   "metadata": {},
   "outputs": [
    {
     "data": {
      "image/png": "[encoded data removed]",
      "text/plain": [
       "<Figure size 432x288 with 1 Axes>"
      ]
     },
     "metadata": {},
     "output_type": "display_data"
    }
   ],
   "source": [
    "bad_students_parental_involvement = valid_grades_df[valid_grades_df['student_performance']==1]['FSFREQ']\n",
    "good_students_parental_involvement = valid_grades_df[valid_grades_df['student_performance']==0]['FSFREQ']\n",
    "\n",
    "sns.distplot(bad_students_parental_involvement, \n",
    "             kde=False, norm_hist=True, color=\"b\", label=\"Low performing student\", hist_kws=dict(alpha=0.3))\n",
    "sns.distplot(good_students_parental_involvement, \n",
    "             kde=False, norm_hist=True, color=\"r\", label=\"High performing student\", hist_kws=dict(alpha=0.3))\n",
    "plt.legend()\n",
    "plt.title(\"Hours of parental involevment per year distribution\")\n",
    "plt.xlabel(\"Parent's participation hours at child's school\")\n",
    "plt.ylabel(\"Probability\");"
   ]
  },
  {
   "cell_type": "code",
   "execution_count": 25,
   "metadata": {},
   "outputs": [
    {
     "name": "stdout",
     "output_type": "stream",
     "text": [
      "Ttest_indResult(statistic=11.193704947828637, pvalue=1.7612375721395477e-28)\n",
      "MannwhitneyuResult(statistic=7094495.5, pvalue=3.1827822122347744e-38)\n"
     ]
    }
   ],
   "source": [
    "from scipy import stats\n",
    "print(stats.ttest_ind(good_students_parental_involvement, bad_students_parental_involvement, \n",
    "                      equal_var=False))\n",
    "\n",
    "print(stats.mannwhitneyu(good_students_parental_involvement, bad_students_parental_involvement, \n",
    "                         use_continuity=False, alternative=None))"
   ]
  }
 ],
 "metadata": {
  "kernelspec": {
   "display_name": "Python 3",
   "language": "python",
   "name": "python3"
  },
  "language_info": {
   "codemirror_mode": {
    "name": "ipython",
    "version": 3
   },
   "file_extension": ".py",
   "mimetype": "text/x-python",
   "name": "python",
   "nbconvert_exporter": "python",
   "pygments_lexer": "ipython3",
   "version": "3.6.5"
  }
 },
 "nbformat": 4,
 "nbformat_minor": 2
}
