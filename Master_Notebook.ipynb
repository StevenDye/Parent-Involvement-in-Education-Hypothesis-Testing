{
 "cells": [
  {
   "cell_type": "markdown",
   "metadata": {},
   "source": [
    "### Is there a correlation between parential involvement?\n",
    "### Does the type of parential involvement matter?"
   ]
  },
  {
   "cell_type": "markdown",
   "metadata": {},
   "source": [
    "# Data Prep"
   ]
  },
  {
   "cell_type": "code",
   "execution_count": 1,
   "metadata": {},
   "outputs": [],
   "source": [
    "import pandas as pd\n",
    "import matplotlib.pyplot as plt\n",
    "import seaborn as sns\n",
    "import math\n",
    "\n",
    "df = pd.read_csv('pfi_pu.csv').drop_duplicates() # No duplicates"
   ]
  },
  {
   "cell_type": "code",
   "execution_count": 2,
   "metadata": {},
   "outputs": [
    {
     "data": {
      "text/html": [
       "<div>\n",
       "<style scoped>\n",
       "    .dataframe tbody tr th:only-of-type {\n",
       "        vertical-align: middle;\n",
       "    }\n",
       "\n",
       "    .dataframe tbody tr th {\n",
       "        vertical-align: top;\n",
       "    }\n",
       "\n",
       "    .dataframe thead th {\n",
       "        text-align: right;\n",
       "    }\n",
       "</style>\n",
       "<table border=\"1\" class=\"dataframe\">\n",
       "  <thead>\n",
       "    <tr style=\"text-align: right;\">\n",
       "      <th></th>\n",
       "      <th>BASMID</th>\n",
       "      <th>QTYPE</th>\n",
       "      <th>GRADE</th>\n",
       "      <th>SCPUBPRI</th>\n",
       "      <th>DISTASSI</th>\n",
       "      <th>SCHRTSCHL</th>\n",
       "      <th>SNEIGHBRX</th>\n",
       "      <th>SPUBCHOIX</th>\n",
       "      <th>SCONSIDR</th>\n",
       "      <th>SPERFORM</th>\n",
       "      <th>...</th>\n",
       "      <th>F_HMEDICAID</th>\n",
       "      <th>F_HCHIP</th>\n",
       "      <th>F_HSECN8</th>\n",
       "      <th>F_TTLHHINC</th>\n",
       "      <th>F_YRSADDR</th>\n",
       "      <th>F_OWNRNTHB</th>\n",
       "      <th>F_HVINTSPHO</th>\n",
       "      <th>F_HVINTCOM</th>\n",
       "      <th>F_USEINTRNT</th>\n",
       "      <th>F_HHUNID</th>\n",
       "    </tr>\n",
       "  </thead>\n",
       "  <tbody>\n",
       "    <tr>\n",
       "      <th>count</th>\n",
       "      <td>1.407500e+04</td>\n",
       "      <td>14075.000000</td>\n",
       "      <td>14075.000000</td>\n",
       "      <td>14075.000000</td>\n",
       "      <td>14075.000000</td>\n",
       "      <td>14075.000000</td>\n",
       "      <td>14075.000000</td>\n",
       "      <td>14075.000000</td>\n",
       "      <td>14075.000000</td>\n",
       "      <td>14075.000000</td>\n",
       "      <td>...</td>\n",
       "      <td>14075.000000</td>\n",
       "      <td>14075.000000</td>\n",
       "      <td>14075.000000</td>\n",
       "      <td>14075.000000</td>\n",
       "      <td>14075.00000</td>\n",
       "      <td>14075.000000</td>\n",
       "      <td>14075.000000</td>\n",
       "      <td>14075.000000</td>\n",
       "      <td>14075.000000</td>\n",
       "      <td>14075.000000</td>\n",
       "    </tr>\n",
       "    <tr>\n",
       "      <th>mean</th>\n",
       "      <td>2.016111e+10</td>\n",
       "      <td>1.960782</td>\n",
       "      <td>9.240710</td>\n",
       "      <td>3.566181</td>\n",
       "      <td>0.846394</td>\n",
       "      <td>1.495915</td>\n",
       "      <td>1.705435</td>\n",
       "      <td>1.827140</td>\n",
       "      <td>1.588561</td>\n",
       "      <td>-0.352327</td>\n",
       "      <td>...</td>\n",
       "      <td>0.084831</td>\n",
       "      <td>0.153037</td>\n",
       "      <td>0.172220</td>\n",
       "      <td>0.105933</td>\n",
       "      <td>0.03325</td>\n",
       "      <td>0.050515</td>\n",
       "      <td>0.027282</td>\n",
       "      <td>0.025364</td>\n",
       "      <td>0.023659</td>\n",
       "      <td>0.016838</td>\n",
       "    </tr>\n",
       "    <tr>\n",
       "      <th>std</th>\n",
       "      <td>6.573097e+04</td>\n",
       "      <td>0.194121</td>\n",
       "      <td>4.294132</td>\n",
       "      <td>1.176456</td>\n",
       "      <td>0.843347</td>\n",
       "      <td>1.066981</td>\n",
       "      <td>0.665687</td>\n",
       "      <td>0.948602</td>\n",
       "      <td>0.691015</td>\n",
       "      <td>1.027745</td>\n",
       "      <td>...</td>\n",
       "      <td>0.497308</td>\n",
       "      <td>0.660093</td>\n",
       "      <td>0.697879</td>\n",
       "      <td>0.553713</td>\n",
       "      <td>0.31409</td>\n",
       "      <td>0.386010</td>\n",
       "      <td>0.284796</td>\n",
       "      <td>0.274690</td>\n",
       "      <td>0.265372</td>\n",
       "      <td>0.224132</td>\n",
       "    </tr>\n",
       "    <tr>\n",
       "      <th>min</th>\n",
       "      <td>2.016100e+10</td>\n",
       "      <td>1.000000</td>\n",
       "      <td>-1.000000</td>\n",
       "      <td>-1.000000</td>\n",
       "      <td>-1.000000</td>\n",
       "      <td>-1.000000</td>\n",
       "      <td>-1.000000</td>\n",
       "      <td>-1.000000</td>\n",
       "      <td>-1.000000</td>\n",
       "      <td>-1.000000</td>\n",
       "      <td>...</td>\n",
       "      <td>0.000000</td>\n",
       "      <td>0.000000</td>\n",
       "      <td>0.000000</td>\n",
       "      <td>0.000000</td>\n",
       "      <td>0.00000</td>\n",
       "      <td>0.000000</td>\n",
       "      <td>0.000000</td>\n",
       "      <td>0.000000</td>\n",
       "      <td>0.000000</td>\n",
       "      <td>0.000000</td>\n",
       "    </tr>\n",
       "    <tr>\n",
       "      <th>25%</th>\n",
       "      <td>2.016106e+10</td>\n",
       "      <td>2.000000</td>\n",
       "      <td>6.000000</td>\n",
       "      <td>4.000000</td>\n",
       "      <td>1.000000</td>\n",
       "      <td>2.000000</td>\n",
       "      <td>2.000000</td>\n",
       "      <td>1.000000</td>\n",
       "      <td>1.000000</td>\n",
       "      <td>-1.000000</td>\n",
       "      <td>...</td>\n",
       "      <td>0.000000</td>\n",
       "      <td>0.000000</td>\n",
       "      <td>0.000000</td>\n",
       "      <td>0.000000</td>\n",
       "      <td>0.00000</td>\n",
       "      <td>0.000000</td>\n",
       "      <td>0.000000</td>\n",
       "      <td>0.000000</td>\n",
       "      <td>0.000000</td>\n",
       "      <td>0.000000</td>\n",
       "    </tr>\n",
       "    <tr>\n",
       "      <th>50%</th>\n",
       "      <td>2.016111e+10</td>\n",
       "      <td>2.000000</td>\n",
       "      <td>10.000000</td>\n",
       "      <td>4.000000</td>\n",
       "      <td>1.000000</td>\n",
       "      <td>2.000000</td>\n",
       "      <td>2.000000</td>\n",
       "      <td>2.000000</td>\n",
       "      <td>2.000000</td>\n",
       "      <td>-1.000000</td>\n",
       "      <td>...</td>\n",
       "      <td>0.000000</td>\n",
       "      <td>0.000000</td>\n",
       "      <td>0.000000</td>\n",
       "      <td>0.000000</td>\n",
       "      <td>0.00000</td>\n",
       "      <td>0.000000</td>\n",
       "      <td>0.000000</td>\n",
       "      <td>0.000000</td>\n",
       "      <td>0.000000</td>\n",
       "      <td>0.000000</td>\n",
       "    </tr>\n",
       "    <tr>\n",
       "      <th>75%</th>\n",
       "      <td>2.016117e+10</td>\n",
       "      <td>2.000000</td>\n",
       "      <td>13.000000</td>\n",
       "      <td>4.000000</td>\n",
       "      <td>1.000000</td>\n",
       "      <td>2.000000</td>\n",
       "      <td>2.000000</td>\n",
       "      <td>3.000000</td>\n",
       "      <td>2.000000</td>\n",
       "      <td>1.000000</td>\n",
       "      <td>...</td>\n",
       "      <td>0.000000</td>\n",
       "      <td>0.000000</td>\n",
       "      <td>0.000000</td>\n",
       "      <td>0.000000</td>\n",
       "      <td>0.00000</td>\n",
       "      <td>0.000000</td>\n",
       "      <td>0.000000</td>\n",
       "      <td>0.000000</td>\n",
       "      <td>0.000000</td>\n",
       "      <td>0.000000</td>\n",
       "    </tr>\n",
       "    <tr>\n",
       "      <th>max</th>\n",
       "      <td>2.016123e+10</td>\n",
       "      <td>2.000000</td>\n",
       "      <td>15.000000</td>\n",
       "      <td>4.000000</td>\n",
       "      <td>2.000000</td>\n",
       "      <td>2.000000</td>\n",
       "      <td>2.000000</td>\n",
       "      <td>3.000000</td>\n",
       "      <td>2.000000</td>\n",
       "      <td>2.000000</td>\n",
       "      <td>...</td>\n",
       "      <td>3.000000</td>\n",
       "      <td>3.000000</td>\n",
       "      <td>3.000000</td>\n",
       "      <td>3.000000</td>\n",
       "      <td>3.00000</td>\n",
       "      <td>3.000000</td>\n",
       "      <td>3.000000</td>\n",
       "      <td>3.000000</td>\n",
       "      <td>3.000000</td>\n",
       "      <td>3.000000</td>\n",
       "    </tr>\n",
       "  </tbody>\n",
       "</table>\n",
       "<p>8 rows × 819 columns</p>\n",
       "</div>"
      ],
      "text/plain": [
       "             BASMID         QTYPE         GRADE      SCPUBPRI      DISTASSI  \\\n",
       "count  1.407500e+04  14075.000000  14075.000000  14075.000000  14075.000000   \n",
       "mean   2.016111e+10      1.960782      9.240710      3.566181      0.846394   \n",
       "std    6.573097e+04      0.194121      4.294132      1.176456      0.843347   \n",
       "min    2.016100e+10      1.000000     -1.000000     -1.000000     -1.000000   \n",
       "25%    2.016106e+10      2.000000      6.000000      4.000000      1.000000   \n",
       "50%    2.016111e+10      2.000000     10.000000      4.000000      1.000000   \n",
       "75%    2.016117e+10      2.000000     13.000000      4.000000      1.000000   \n",
       "max    2.016123e+10      2.000000     15.000000      4.000000      2.000000   \n",
       "\n",
       "          SCHRTSCHL     SNEIGHBRX     SPUBCHOIX      SCONSIDR      SPERFORM  \\\n",
       "count  14075.000000  14075.000000  14075.000000  14075.000000  14075.000000   \n",
       "mean       1.495915      1.705435      1.827140      1.588561     -0.352327   \n",
       "std        1.066981      0.665687      0.948602      0.691015      1.027745   \n",
       "min       -1.000000     -1.000000     -1.000000     -1.000000     -1.000000   \n",
       "25%        2.000000      2.000000      1.000000      1.000000     -1.000000   \n",
       "50%        2.000000      2.000000      2.000000      2.000000     -1.000000   \n",
       "75%        2.000000      2.000000      3.000000      2.000000      1.000000   \n",
       "max        2.000000      2.000000      3.000000      2.000000      2.000000   \n",
       "\n",
       "       ...   F_HMEDICAID       F_HCHIP      F_HSECN8    F_TTLHHINC  \\\n",
       "count  ...  14075.000000  14075.000000  14075.000000  14075.000000   \n",
       "mean   ...      0.084831      0.153037      0.172220      0.105933   \n",
       "std    ...      0.497308      0.660093      0.697879      0.553713   \n",
       "min    ...      0.000000      0.000000      0.000000      0.000000   \n",
       "25%    ...      0.000000      0.000000      0.000000      0.000000   \n",
       "50%    ...      0.000000      0.000000      0.000000      0.000000   \n",
       "75%    ...      0.000000      0.000000      0.000000      0.000000   \n",
       "max    ...      3.000000      3.000000      3.000000      3.000000   \n",
       "\n",
       "         F_YRSADDR    F_OWNRNTHB   F_HVINTSPHO    F_HVINTCOM   F_USEINTRNT  \\\n",
       "count  14075.00000  14075.000000  14075.000000  14075.000000  14075.000000   \n",
       "mean       0.03325      0.050515      0.027282      0.025364      0.023659   \n",
       "std        0.31409      0.386010      0.284796      0.274690      0.265372   \n",
       "min        0.00000      0.000000      0.000000      0.000000      0.000000   \n",
       "25%        0.00000      0.000000      0.000000      0.000000      0.000000   \n",
       "50%        0.00000      0.000000      0.000000      0.000000      0.000000   \n",
       "75%        0.00000      0.000000      0.000000      0.000000      0.000000   \n",
       "max        3.00000      3.000000      3.000000      3.000000      3.000000   \n",
       "\n",
       "           F_HHUNID  \n",
       "count  14075.000000  \n",
       "mean       0.016838  \n",
       "std        0.224132  \n",
       "min        0.000000  \n",
       "25%        0.000000  \n",
       "50%        0.000000  \n",
       "75%        0.000000  \n",
       "max        3.000000  \n",
       "\n",
       "[8 rows x 819 columns]"
      ]
     },
     "execution_count": 2,
     "metadata": {},
     "output_type": "execute_result"
    }
   ],
   "source": [
    "df.describe()"
   ]
  },
  {
   "cell_type": "code",
   "execution_count": 3,
   "metadata": {
    "scrolled": true
   },
   "outputs": [
    {
     "name": "stdout",
     "output_type": "stream",
     "text": [
      "<class 'pandas.core.frame.DataFrame'>\n",
      "Int64Index: 14075 entries, 0 to 14074\n",
      "Columns: 822 entries, BASMID to F_HHUNID\n",
      "dtypes: float64(81), int64(738), object(3)\n",
      "memory usage: 88.4+ MB\n"
     ]
    }
   ],
   "source": [
    "df.info()"
   ]
  },
  {
   "cell_type": "code",
   "execution_count": 4,
   "metadata": {},
   "outputs": [],
   "source": [
    "# Student Categorical Features\n",
    "# E1: GRADE     \"What is this child’s current grade or year of school?\"\n",
    "# E2: SCPUBPRI  \"What type of school does this child attend?\"\n",
    "# 25: HOMESCHLX \"Some parents decide to educate their children at home rather than send them to a public or private school. Is this child being schooled at home instead of at school for at least some classes or subjects?\"\n",
    "student_categorical_features = ['GRADE', 'SCPUBPRI', 'HOMESCHLX']"
   ]
  },
  {
   "cell_type": "code",
   "execution_count": 5,
   "metadata": {},
   "outputs": [],
   "source": [
    "# Student Performance Features\n",
    "# E13: SEGRADES  \"Please tell us about this child's grades during this school year. Overall, across all subjects, what grades does this child get?\"\n",
    "# E20: SEFUTUREX \"How far do you expect this child to go in his/her education?\"\n",
    "# E21: SEGRADEQ  \"How would you describe his/her work at school?\"\n",
    "# E36: FHWKHRS   \"In an average week, how many hours does this child spend on homework outside of school?\"\n",
    "student_performance_features = ['SEGRADES', 'SEFUTUREX', 'SEGRADEQ']"
   ]
  },
  {
   "cell_type": "code",
   "execution_count": 6,
   "metadata": {},
   "outputs": [],
   "source": [
    "# Parential Involvement Features\n",
    "# 31: FSFREQ \"During this school year, how many times has any adult in the household gone to meetings or participated in activities at this child's school?\"\n",
    "parential_involvement_features = ['FSFREQ']"
   ]
  },
  {
   "cell_type": "code",
   "execution_count": 7,
   "metadata": {},
   "outputs": [],
   "source": [
    "traditional_schools_df = df[df['SCPUBPRI'] != -1]\n",
    "# removes homeschooled students"
   ]
  },
  {
   "cell_type": "code",
   "execution_count": 8,
   "metadata": {},
   "outputs": [],
   "source": [
    "valid_grades_df = df[(df['SEGRADES'] != -1) & (df['SEGRADES'] != 5)]\n",
    "# -1 is a valid skip, 5 means that the school does not give grades"
   ]
  },
  {
   "cell_type": "code",
   "execution_count": 9,
   "metadata": {
    "scrolled": true
   },
   "outputs": [
    {
     "data": {
      "text/plain": [
       "count    11913.000000\n",
       "mean         1.657433\n",
       "std          0.791418\n",
       "min          1.000000\n",
       "25%          1.000000\n",
       "50%          1.000000\n",
       "75%          2.000000\n",
       "max          4.000000\n",
       "Name: SEGRADES, dtype: float64"
      ]
     },
     "execution_count": 9,
     "metadata": {},
     "output_type": "execute_result"
    }
   ],
   "source": [
    "valid_grades_df.SEGRADES.describe()"
   ]
  },
  {
   "cell_type": "code",
   "execution_count": 10,
   "metadata": {},
   "outputs": [
    {
     "name": "stderr",
     "output_type": "stream",
     "text": [
      "/Users/stevedye/anaconda3/lib/python3.6/site-packages/ipykernel_launcher.py:1: SettingWithCopyWarning: \n",
      "A value is trying to be set on a copy of a slice from a DataFrame.\n",
      "Try using .loc[row_indexer,col_indexer] = value instead\n",
      "\n",
      "See the caveats in the documentation: http://pandas.pydata.org/pandas-docs/stable/user_guide/indexing.html#returning-a-view-versus-a-copy\n",
      "  \"\"\"Entry point for launching an IPython kernel.\n"
     ]
    }
   ],
   "source": [
    "valid_grades_df['high_performance'] = valid_grades_df['SEGRADES'].apply(lambda x: math.floor(x/2.5))"
   ]
  },
  {
   "cell_type": "markdown",
   "metadata": {},
   "source": [
    "# Visualizations"
   ]
  },
  {
   "cell_type": "code",
   "execution_count": 11,
   "metadata": {},
   "outputs": [
    {
     "data": {
      "image/png": "[encoded data removed]",
      "text/plain": [
       "<Figure size 432x288 with 1 Axes>"
      ]
     },
     "metadata": {},
     "output_type": "display_data"
    }
   ],
   "source": [
    "sns.distplot(traditional_schools_df['FSFREQ'], kde=False)\n",
    "plt.title(\"Parent's Participation Count\")\n",
    "plt.xlabel(\"Parent's participation hours at child's school\")\n",
    "plt.ylabel(\"Count\");"
   ]
  },
  {
   "cell_type": "code",
   "execution_count": 12,
   "metadata": {
    "scrolled": false
   },
   "outputs": [
    {
     "data": {
      "image/png": "[encoded data removed]",
      "text/plain": [
       "<Figure size 432x288 with 1 Axes>"
      ]
     },
     "metadata": {},
     "output_type": "display_data"
    }
   ],
   "source": [
    "sns.regplot(x='FSFREQ', y='SEGRADES', data=valid_grades_df);"
   ]
  },
  {
   "cell_type": "code",
   "execution_count": 13,
   "metadata": {},
   "outputs": [
    {
     "data": {
      "image/png": "[encoded data removed]",
      "text/plain": [
       "<Figure size 432x288 with 1 Axes>"
      ]
     },
     "metadata": {},
     "output_type": "display_data"
    }
   ],
   "source": [
    "# Count of Grade distribution. 1: Mostly A's 2: Mostly B's 3: Mostly C's 4: Mostly D's or lower\n",
    "sns.distplot(valid_grades_df['SEGRADES'], kde=False)\n",
    "plt.title(\"Student Grade Count\")\n",
    "plt.xlabel(\"Overall Student Grade\")\n",
    "plt.ylabel(\"Count\");"
   ]
  },
  {
   "cell_type": "code",
   "execution_count": 14,
   "metadata": {},
   "outputs": [
    {
     "data": {
      "image/png": "[encoded data removed]",
      "text/plain": [
       "<Figure size 432x288 with 1 Axes>"
      ]
     },
     "metadata": {},
     "output_type": "display_data"
    }
   ],
   "source": [
    "# 0's are A's and B's, 1's are C's and lower\n",
    "sns.regplot(x='FSFREQ', y='high_performance', data=valid_grades_df);"
   ]
  },
  {
   "cell_type": "code",
   "execution_count": 15,
   "metadata": {},
   "outputs": [
    {
     "data": {
      "text/plain": [
       "high_performance\n",
       "0    8.195917\n",
       "1    5.990725\n",
       "Name: FSFREQ, dtype: float64"
      ]
     },
     "execution_count": 15,
     "metadata": {},
     "output_type": "execute_result"
    }
   ],
   "source": [
    "test = valid_grades_df.groupby('high_performance').FSFREQ.mean()\n",
    "test"
   ]
  },
  {
   "cell_type": "code",
   "execution_count": 16,
   "metadata": {},
   "outputs": [
    {
     "data": {
      "text/html": [
       "<div>\n",
       "<style scoped>\n",
       "    .dataframe tbody tr th:only-of-type {\n",
       "        vertical-align: middle;\n",
       "    }\n",
       "\n",
       "    .dataframe tbody tr th {\n",
       "        vertical-align: top;\n",
       "    }\n",
       "\n",
       "    .dataframe thead th {\n",
       "        text-align: right;\n",
       "    }\n",
       "</style>\n",
       "<table border=\"1\" class=\"dataframe\">\n",
       "  <thead>\n",
       "    <tr style=\"text-align: right;\">\n",
       "      <th></th>\n",
       "      <th>high_performance</th>\n",
       "      <th>FSFREQ</th>\n",
       "    </tr>\n",
       "  </thead>\n",
       "  <tbody>\n",
       "    <tr>\n",
       "      <th>0</th>\n",
       "      <td>0</td>\n",
       "      <td>6</td>\n",
       "    </tr>\n",
       "    <tr>\n",
       "      <th>1</th>\n",
       "      <td>0</td>\n",
       "      <td>10</td>\n",
       "    </tr>\n",
       "    <tr>\n",
       "      <th>4</th>\n",
       "      <td>0</td>\n",
       "      <td>10</td>\n",
       "    </tr>\n",
       "    <tr>\n",
       "      <th>5</th>\n",
       "      <td>0</td>\n",
       "      <td>3</td>\n",
       "    </tr>\n",
       "    <tr>\n",
       "      <th>6</th>\n",
       "      <td>0</td>\n",
       "      <td>1</td>\n",
       "    </tr>\n",
       "    <tr>\n",
       "      <th>...</th>\n",
       "      <td>...</td>\n",
       "      <td>...</td>\n",
       "    </tr>\n",
       "    <tr>\n",
       "      <th>14069</th>\n",
       "      <td>1</td>\n",
       "      <td>3</td>\n",
       "    </tr>\n",
       "    <tr>\n",
       "      <th>14070</th>\n",
       "      <td>0</td>\n",
       "      <td>8</td>\n",
       "    </tr>\n",
       "    <tr>\n",
       "      <th>14071</th>\n",
       "      <td>0</td>\n",
       "      <td>25</td>\n",
       "    </tr>\n",
       "    <tr>\n",
       "      <th>14072</th>\n",
       "      <td>0</td>\n",
       "      <td>5</td>\n",
       "    </tr>\n",
       "    <tr>\n",
       "      <th>14073</th>\n",
       "      <td>0</td>\n",
       "      <td>1</td>\n",
       "    </tr>\n",
       "  </tbody>\n",
       "</table>\n",
       "<p>11913 rows × 2 columns</p>\n",
       "</div>"
      ],
      "text/plain": [
       "       high_performance  FSFREQ\n",
       "0                     0       6\n",
       "1                     0      10\n",
       "4                     0      10\n",
       "5                     0       3\n",
       "6                     0       1\n",
       "...                 ...     ...\n",
       "14069                 1       3\n",
       "14070                 0       8\n",
       "14071                 0      25\n",
       "14072                 0       5\n",
       "14073                 0       1\n",
       "\n",
       "[11913 rows x 2 columns]"
      ]
     },
     "execution_count": 16,
     "metadata": {},
     "output_type": "execute_result"
    }
   ],
   "source": [
    "test3 = valid_grades_df[['high_performance', 'FSFREQ']]\n",
    "test3"
   ]
  },
  {
   "cell_type": "code",
   "execution_count": 26,
   "metadata": {},
   "outputs": [
    {
     "data": {
      "text/html": [
       "<div>\n",
       "<style scoped>\n",
       "    .dataframe tbody tr th:only-of-type {\n",
       "        vertical-align: middle;\n",
       "    }\n",
       "\n",
       "    .dataframe tbody tr th {\n",
       "        vertical-align: top;\n",
       "    }\n",
       "\n",
       "    .dataframe thead tr th {\n",
       "        text-align: left;\n",
       "    }\n",
       "\n",
       "    .dataframe thead tr:last-of-type th {\n",
       "        text-align: right;\n",
       "    }\n",
       "</style>\n",
       "<table border=\"1\" class=\"dataframe\">\n",
       "  <thead>\n",
       "    <tr>\n",
       "      <th></th>\n",
       "      <th colspan=\"8\" halign=\"left\">FSFREQ</th>\n",
       "    </tr>\n",
       "    <tr>\n",
       "      <th></th>\n",
       "      <th>count</th>\n",
       "      <th>mean</th>\n",
       "      <th>std</th>\n",
       "      <th>min</th>\n",
       "      <th>25%</th>\n",
       "      <th>50%</th>\n",
       "      <th>75%</th>\n",
       "      <th>max</th>\n",
       "    </tr>\n",
       "    <tr>\n",
       "      <th>high_performance</th>\n",
       "      <th></th>\n",
       "      <th></th>\n",
       "      <th></th>\n",
       "      <th></th>\n",
       "      <th></th>\n",
       "      <th></th>\n",
       "      <th></th>\n",
       "      <th></th>\n",
       "    </tr>\n",
       "  </thead>\n",
       "  <tbody>\n",
       "    <tr>\n",
       "      <th>0</th>\n",
       "      <td>10188.0</td>\n",
       "      <td>8.195917</td>\n",
       "      <td>9.280269</td>\n",
       "      <td>0.0</td>\n",
       "      <td>3.0</td>\n",
       "      <td>5.0</td>\n",
       "      <td>10.0</td>\n",
       "      <td>99.0</td>\n",
       "    </tr>\n",
       "    <tr>\n",
       "      <th>1</th>\n",
       "      <td>1725.0</td>\n",
       "      <td>5.990725</td>\n",
       "      <td>7.236390</td>\n",
       "      <td>0.0</td>\n",
       "      <td>2.0</td>\n",
       "      <td>4.0</td>\n",
       "      <td>6.0</td>\n",
       "      <td>80.0</td>\n",
       "    </tr>\n",
       "  </tbody>\n",
       "</table>\n",
       "</div>"
      ],
      "text/plain": [
       "                   FSFREQ                                               \n",
       "                    count      mean       std  min  25%  50%   75%   max\n",
       "high_performance                                                        \n",
       "0                 10188.0  8.195917  9.280269  0.0  3.0  5.0  10.0  99.0\n",
       "1                  1725.0  5.990725  7.236390  0.0  2.0  4.0   6.0  80.0"
      ]
     },
     "execution_count": 26,
     "metadata": {},
     "output_type": "execute_result"
    }
   ],
   "source": [
    "valid_grades_df[['high_performance', 'FSFREQ']].groupby('high_performance').describe()\n",
    "# 0's are A's and B's, 1's are C's and lower"
   ]
  },
  {
   "cell_type": "code",
   "execution_count": 27,
   "metadata": {},
   "outputs": [
    {
     "data": {
      "text/html": [
       "<div>\n",
       "<style scoped>\n",
       "    .dataframe tbody tr th:only-of-type {\n",
       "        vertical-align: middle;\n",
       "    }\n",
       "\n",
       "    .dataframe tbody tr th {\n",
       "        vertical-align: top;\n",
       "    }\n",
       "\n",
       "    .dataframe thead tr th {\n",
       "        text-align: left;\n",
       "    }\n",
       "\n",
       "    .dataframe thead tr:last-of-type th {\n",
       "        text-align: right;\n",
       "    }\n",
       "</style>\n",
       "<table border=\"1\" class=\"dataframe\">\n",
       "  <thead>\n",
       "    <tr>\n",
       "      <th></th>\n",
       "      <th colspan=\"8\" halign=\"left\">FSFREQ</th>\n",
       "    </tr>\n",
       "    <tr>\n",
       "      <th></th>\n",
       "      <th>count</th>\n",
       "      <th>mean</th>\n",
       "      <th>std</th>\n",
       "      <th>min</th>\n",
       "      <th>25%</th>\n",
       "      <th>50%</th>\n",
       "      <th>75%</th>\n",
       "      <th>max</th>\n",
       "    </tr>\n",
       "    <tr>\n",
       "      <th>SEGRADES</th>\n",
       "      <th></th>\n",
       "      <th></th>\n",
       "      <th></th>\n",
       "      <th></th>\n",
       "      <th></th>\n",
       "      <th></th>\n",
       "      <th></th>\n",
       "      <th></th>\n",
       "    </tr>\n",
       "  </thead>\n",
       "  <tbody>\n",
       "    <tr>\n",
       "      <th>1</th>\n",
       "      <td>6138.0</td>\n",
       "      <td>8.886119</td>\n",
       "      <td>9.786589</td>\n",
       "      <td>0.0</td>\n",
       "      <td>3.0</td>\n",
       "      <td>5.0</td>\n",
       "      <td>10.0</td>\n",
       "      <td>99.0</td>\n",
       "    </tr>\n",
       "    <tr>\n",
       "      <th>2</th>\n",
       "      <td>4050.0</td>\n",
       "      <td>7.149877</td>\n",
       "      <td>8.348397</td>\n",
       "      <td>0.0</td>\n",
       "      <td>3.0</td>\n",
       "      <td>5.0</td>\n",
       "      <td>8.0</td>\n",
       "      <td>90.0</td>\n",
       "    </tr>\n",
       "    <tr>\n",
       "      <th>3</th>\n",
       "      <td>1393.0</td>\n",
       "      <td>6.009332</td>\n",
       "      <td>7.298386</td>\n",
       "      <td>0.0</td>\n",
       "      <td>2.0</td>\n",
       "      <td>4.0</td>\n",
       "      <td>6.0</td>\n",
       "      <td>80.0</td>\n",
       "    </tr>\n",
       "    <tr>\n",
       "      <th>4</th>\n",
       "      <td>332.0</td>\n",
       "      <td>5.912651</td>\n",
       "      <td>6.980436</td>\n",
       "      <td>0.0</td>\n",
       "      <td>3.0</td>\n",
       "      <td>4.0</td>\n",
       "      <td>6.0</td>\n",
       "      <td>60.0</td>\n",
       "    </tr>\n",
       "  </tbody>\n",
       "</table>\n",
       "</div>"
      ],
      "text/plain": [
       "          FSFREQ                                               \n",
       "           count      mean       std  min  25%  50%   75%   max\n",
       "SEGRADES                                                       \n",
       "1         6138.0  8.886119  9.786589  0.0  3.0  5.0  10.0  99.0\n",
       "2         4050.0  7.149877  8.348397  0.0  3.0  5.0   8.0  90.0\n",
       "3         1393.0  6.009332  7.298386  0.0  2.0  4.0   6.0  80.0\n",
       "4          332.0  5.912651  6.980436  0.0  3.0  4.0   6.0  60.0"
      ]
     },
     "execution_count": 27,
     "metadata": {},
     "output_type": "execute_result"
    }
   ],
   "source": [
    "valid_grades_df[['FSFREQ','SEGRADES']].groupby('SEGRADES').describe()"
   ]
  },
  {
   "cell_type": "code",
   "execution_count": 21,
   "metadata": {},
   "outputs": [
    {
     "data": {
      "text/plain": [
       "3716     1\n",
       "7089     5\n",
       "11679    1\n",
       "12522    5\n",
       "12631    1\n",
       "Name: SEGRADES, dtype: int64"
      ]
     },
     "execution_count": 21,
     "metadata": {},
     "output_type": "execute_result"
    }
   ],
   "source": [
    "df[df['FSFREQ']==99]['SEGRADES']"
   ]
  },
  {
   "cell_type": "code",
   "execution_count": 22,
   "metadata": {},
   "outputs": [
    {
     "data": {
      "image/png": "[encoded data removed]",
      "text/plain": [
       "<Figure size 504x504 with 4 Axes>"
      ]
     },
     "metadata": {},
     "output_type": "display_data"
    }
   ],
   "source": [
    "f, axes = plt.subplots(2, 2, figsize=(7, 7), sharex=True, sharey=True)\n",
    "plt.suptitle(\"Hours of parential involevment per year distribution\")\n",
    "f.text(0.5, 0.05, 'common X', ha='center')\n",
    "f.text(0.05, 0.5, 'common Y', va='center', rotation='vertical')\n",
    "\n",
    "sns.distplot(valid_grades_df[valid_grades_df['SEGRADES']==1]['FSFREQ'],\n",
    "             label=\"A Students\", color=\"b\", ax=axes[0, 0])\n",
    "sns.distplot(valid_grades_df[valid_grades_df['SEGRADES']==2]['FSFREQ'], \n",
    "             label=\"B Students\", color=\"r\", ax=axes[0, 1])\n",
    "sns.distplot(valid_grades_df[valid_grades_df['SEGRADES']==3]['FSFREQ'],\n",
    "             label=\"C Students\", color=\"g\", ax=axes[1, 0])\n",
    "sns.distplot(valid_grades_df[valid_grades_df['SEGRADES']==4]['FSFREQ'],\n",
    "             label=\"D Students\", color=\"y\", ax=axes[1, 1])\n",
    "plt.legend()\n",
    "plt.plot();"
   ]
  },
  {
   "cell_type": "code",
   "execution_count": 23,
   "metadata": {},
   "outputs": [
    {
     "data": {
      "image/png": "[encoded data removed]",
      "text/plain": [
       "<Figure size 432x288 with 1 Axes>"
      ]
     },
     "metadata": {},
     "output_type": "display_data"
    }
   ],
   "source": [
    "sns.distplot(valid_grades_df[valid_grades_df['SEGRADES']==1]['FSFREQ'], \n",
    "             color=\"b\", label=\"A Students\", hist=False, hist_kws=dict(alpha=0.5))\n",
    "sns.distplot(valid_grades_df[valid_grades_df['SEGRADES']==2]['FSFREQ'], \n",
    "             color=\"r\", label=\"B Students\", hist=False, hist_kws=dict(alpha=0.5))\n",
    "sns.distplot(valid_grades_df[valid_grades_df['SEGRADES']==3]['FSFREQ'], \n",
    "             color=\"g\", label=\"C Students\", hist=False, hist_kws=dict(alpha=0.5))\n",
    "sns.distplot(valid_grades_df[valid_grades_df['SEGRADES']==4]['FSFREQ'], \n",
    "             color=\"y\", label=\"D Students\", hist=False, hist_kws=dict(alpha=0.5))\n",
    "plt.legend()\n",
    "plt.title(\"Hours of parential involevment per year distribution\")\n",
    "plt.xlabel(\"Parent's participation hours at child's school\")\n",
    "plt.ylabel(\"Probability\");"
   ]
  },
  {
   "cell_type": "code",
   "execution_count": 24,
   "metadata": {},
   "outputs": [
    {
     "data": {
      "image/png": "[encoded data removed]",
      "text/plain": [
       "<Figure size 432x288 with 1 Axes>"
      ]
     },
     "metadata": {},
     "output_type": "display_data"
    }
   ],
   "source": [
    "sns.distplot(valid_grades_df[valid_grades_df['high_performance']==1]['FSFREQ'], \n",
    "             kde=False, norm_hist=True, color=\"b\", label=\"Low performing student\", hist_kws=dict(alpha=0.3))\n",
    "sns.distplot(valid_grades_df[valid_grades_df['high_performance']==0]['FSFREQ'], \n",
    "             kde=False, norm_hist=True, color=\"r\", label=\"High performing student\", hist_kws=dict(alpha=0.3))\n",
    "plt.legend()\n",
    "plt.title(\"Hours of parential involevment per year distribution\")\n",
    "plt.xlabel(\"Parent's participation hours at child's school\")\n",
    "plt.ylabel(\"Probability\");"
   ]
  },
  {
   "cell_type": "code",
   "execution_count": 25,
   "metadata": {},
   "outputs": [],
   "source": [
    "# Use Mann-Whitney U Test\n",
    "# dependent:ordinate or coninuous level\n",
    "# inde: 2 categorical groups\n",
    "# independence of observations\n",
    "# Two variable not normally distributed\n",
    "# Similar shape"
   ]
  },
  {
   "cell_type": "markdown",
   "metadata": {},
   "source": [
    "### Things I still want to do\n",
    "Calculation from actual count to weighted count"
   ]
  },
  {
   "cell_type": "code",
   "execution_count": null,
   "metadata": {},
   "outputs": [],
   "source": [
    "# t test"
   ]
  }
 ],
 "metadata": {
  "kernelspec": {
   "display_name": "Python 3",
   "language": "python",
   "name": "python3"
  },
  "language_info": {
   "codemirror_mode": {
    "name": "ipython",
    "version": 3
   },
   "file_extension": ".py",
   "mimetype": "text/x-python",
   "name": "python",
   "nbconvert_exporter": "python",
   "pygments_lexer": "ipython3",
   "version": "3.6.5"
  }
 },
 "nbformat": 4,
 "nbformat_minor": 2
}
