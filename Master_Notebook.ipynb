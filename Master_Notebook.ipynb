{
 "cells": [
  {
   "cell_type": "markdown",
   "metadata": {},
   "source": [
    "# Parental Involvement & Student Outcomes\n"
   ]
  },
  {
   "cell_type": "markdown",
   "metadata": {},
   "source": [
    "Anil Onal and Steven Dye\n",
    "\n",
    "Module 3 Project: Hypothesis Testing"
   ]
  },
  {
   "cell_type": "markdown",
   "metadata": {},
   "source": [
    "## The Problem Statement\n",
    "\n",
    "We attempted to find a relationship between a child's success in school and the amount of time that their parent/parental figure is involved. We then sought to break down the different types of parental involvement in order to see if one is more valuable than the other.\n",
    "#### Is there a correlation between parential involvement and a child's success in school?\n",
    "#### Does the type of parential involvement matter?\n"
   ]
  },
  {
   "cell_type": "markdown",
   "metadata": {},
   "source": [
    "## Data\n",
    "\n",
    "Our data is the National Household Education Survey Program of 2016 from the National Center for Education Statistics. This data was collected in the NHES's Parent and Family Involvement in Education (PFI) Survey. The survey collects data on children from grades kindergarten to 12th grade and asks various questions about the child's performance in school and the involvement of the parents. The survey is filled out by the parents. The data is compiled in a csv file with 822 columns and 14075 entries.\n",
    "\n",
    "The data was then cleaned by removing the irrelevant data and by creating a new column that categorized the students based on their performance in school."
   ]
  },
  {
   "cell_type": "code",
   "execution_count": null,
   "metadata": {},
   "outputs": [],
   "source": [
    "# Creates a sub-dataframe that removes N/A values\n",
    "valid_grades_df = df.copy()\n",
    "valid_grades_df = valid_grades_df[(valid_grades_df['SEGRADES'] != -1) & (valid_grades_df['SEGRADES'] != 5)]\n",
    "# Categoricalize students into two groups based on school performance\n",
    "valid_grades_df['student_performance'] = valid_grades_df['SEGRADES'].apply(lambda x: math.floor(x/2.5))"
   ]
  },
  {
   "cell_type": "markdown",
   "metadata": {},
   "source": [
    "## Methodology\n",
    "\n",
    "When determining the success of children at school, we focused mainly on question E13 from the survey: *\"Please tell us about this child's grades during this school year. Overall, across all subjects, what grades does this child get?\"*\n",
    "\n",
    "We separated the students into two groups, high performing students and low performing students. This grouping was made by looking at question E13 and seperating those who answered 1 and 2 into the high performing students group and placing those answering 3 or 4 were placed in the low performing students group. Students with other or invalid answers to this question were dropped from the analysis."
   ]
  },
  {
   "cell_type": "code",
   "execution_count": 37,
   "metadata": {},
   "outputs": [],
   "source": [
    "low_students_pi = valid_grades_df[valid_grades_df['student_performance']==1]['FSFREQ']\n",
    "high_students_pi = valid_grades_df[valid_grades_df['student_performance']==0]['FSFREQ']"
   ]
  },
  {
   "cell_type": "markdown",
   "metadata": {},
   "source": [
    "This means that high performing students will have a value of 0 in the \"student_performance\" feature, while low performing students will have a value of 1."
   ]
  },
  {
   "cell_type": "markdown",
   "metadata": {},
   "source": [
    "## Key Findings\n",
    "\n",
    "For high performing students, the mean parental involvement hours per year was 8.195917 with a standard deviation of 9.280269 while for low students, the mean was 5.990725 hours with a standard deviation of 7.236390. Since the data is ratio and consists of two independent samples from a non-normal distribution, a Mann-Whitney U test was used to measure significance. This gives a t score of 7094495.5, resulting in a p-value of 3.18e-38. The Cohen's d value was found to be 0.24466330903542002. With an alpha value of 0.05, the power was calculated to be 1.0."
   ]
  },
  {
   "cell_type": "code",
   "execution_count": 38,
   "metadata": {
    "scrolled": true
   },
   "outputs": [
    {
     "data": {
      "text/html": [
       "<div>\n",
       "<style scoped>\n",
       "    .dataframe tbody tr th:only-of-type {\n",
       "        vertical-align: middle;\n",
       "    }\n",
       "\n",
       "    .dataframe tbody tr th {\n",
       "        vertical-align: top;\n",
       "    }\n",
       "\n",
       "    .dataframe thead tr th {\n",
       "        text-align: left;\n",
       "    }\n",
       "\n",
       "    .dataframe thead tr:last-of-type th {\n",
       "        text-align: right;\n",
       "    }\n",
       "</style>\n",
       "<table border=\"1\" class=\"dataframe\">\n",
       "  <thead>\n",
       "    <tr>\n",
       "      <th></th>\n",
       "      <th colspan=\"8\" halign=\"left\">FSFREQ</th>\n",
       "    </tr>\n",
       "    <tr>\n",
       "      <th></th>\n",
       "      <th>count</th>\n",
       "      <th>mean</th>\n",
       "      <th>std</th>\n",
       "      <th>min</th>\n",
       "      <th>25%</th>\n",
       "      <th>50%</th>\n",
       "      <th>75%</th>\n",
       "      <th>max</th>\n",
       "    </tr>\n",
       "    <tr>\n",
       "      <th>student_performance</th>\n",
       "      <th></th>\n",
       "      <th></th>\n",
       "      <th></th>\n",
       "      <th></th>\n",
       "      <th></th>\n",
       "      <th></th>\n",
       "      <th></th>\n",
       "      <th></th>\n",
       "    </tr>\n",
       "  </thead>\n",
       "  <tbody>\n",
       "    <tr>\n",
       "      <th>0</th>\n",
       "      <td>10188.0</td>\n",
       "      <td>8.195917</td>\n",
       "      <td>9.280269</td>\n",
       "      <td>0.0</td>\n",
       "      <td>3.0</td>\n",
       "      <td>5.0</td>\n",
       "      <td>10.0</td>\n",
       "      <td>99.0</td>\n",
       "    </tr>\n",
       "    <tr>\n",
       "      <th>1</th>\n",
       "      <td>1725.0</td>\n",
       "      <td>5.990725</td>\n",
       "      <td>7.236390</td>\n",
       "      <td>0.0</td>\n",
       "      <td>2.0</td>\n",
       "      <td>4.0</td>\n",
       "      <td>6.0</td>\n",
       "      <td>80.0</td>\n",
       "    </tr>\n",
       "  </tbody>\n",
       "</table>\n",
       "</div>"
      ],
      "text/plain": [
       "                      FSFREQ                                               \n",
       "                       count      mean       std  min  25%  50%   75%   max\n",
       "student_performance                                                        \n",
       "0                    10188.0  8.195917  9.280269  0.0  3.0  5.0  10.0  99.0\n",
       "1                     1725.0  5.990725  7.236390  0.0  2.0  4.0   6.0  80.0"
      ]
     },
     "execution_count": 38,
     "metadata": {},
     "output_type": "execute_result"
    }
   ],
   "source": [
    "# Get means and standard deviations of the two student groups\n",
    "valid_grades_df[['student_performance', 'FSFREQ']].groupby('student_performance').describe()"
   ]
  },
  {
   "cell_type": "code",
   "execution_count": 39,
   "metadata": {},
   "outputs": [
    {
     "name": "stdout",
     "output_type": "stream",
     "text": [
      "MannwhitneyuResult(statistic=7094495.5, pvalue=3.1827822122347744e-38)\n"
     ]
    }
   ],
   "source": [
    "# Mann-Whitney U test\n",
    "print(stats.mannwhitneyu(high_students_pi, low_students_pi, use_continuity=False, alternative=None))"
   ]
  },
  {
   "cell_type": "code",
   "execution_count": null,
   "metadata": {},
   "outputs": [],
   "source": [
    "# Calculate the Effect Size with Cohen's D\n",
    "# Expected differences in mean is 0.\n",
    "mean_1 = high_students_pi.mean()\n",
    "mean_2 = low_students_pi.mean()\n",
    "n_1 = len(high_students_pi)\n",
    "n_2 = len(low_students_pi)\n",
    "var1 = np.var(high_students_pi, ddof=1)\n",
    "var2 = np.var(low_students_pi, ddof=1)\n",
    "\n",
    "num = (n_1-1)*var1 + (n_2-1)*var2\n",
    "denom = (n_1+n_2-2)\n",
    "s_W = np.sqrt(num/denom)\n",
    "\n",
    "d = np.abs(mean_1 - mean_2)/s_W\n",
    "\n",
    "print(d)"
   ]
  },
  {
   "cell_type": "code",
   "execution_count": null,
   "metadata": {},
   "outputs": [],
   "source": [
    "# Calculate power\n",
    "from statsmodels.stats.power import TTestIndPower\n",
    "power_analysis = TTestIndPower()\n",
    "power_analysis.solve_power(effect_size=d, nobs1=n_1, alpha=.05)"
   ]
  },
  {
   "cell_type": "markdown",
   "metadata": {},
   "source": [
    "## Conclusions\n",
    "\n",
    "Power value of 1, so it is very significant."
   ]
  },
  {
   "cell_type": "markdown",
   "metadata": {},
   "source": [
    "## Future Work\n",
    "\n",
    "The survey applies weights to the responses in order to apply the findings to the entire U.S. population. There are 80 weights in total and each entry has their own value for each weight. While this is interesting topic to dive into, it is much larger than the scope of this project."
   ]
  }
 ],
 "metadata": {
  "kernelspec": {
   "display_name": "Python 3",
   "language": "python",
   "name": "python3"
  },
  "language_info": {
   "codemirror_mode": {
    "name": "ipython",
    "version": 3
   },
   "file_extension": ".py",
   "mimetype": "text/x-python",
   "name": "python",
   "nbconvert_exporter": "python",
   "pygments_lexer": "ipython3",
   "version": "3.6.5"
  }
 },
 "nbformat": 4,
 "nbformat_minor": 2
}
